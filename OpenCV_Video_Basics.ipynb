{
 "cells": [
  {
   "cell_type": "markdown",
   "metadata": {},
   "source": [
    "# Connect WebCam using OpenCV"
   ]
  },
  {
   "cell_type": "code",
   "execution_count": 10,
   "metadata": {},
   "outputs": [],
   "source": [
    "import cv2\n",
    "cap = cv2.VideoCapture(0) # video capture object\n",
    "while True:\n",
    "    ret, frame = cap.read() # capture the frame\n",
    "    cv2.imshow('frame',frame) # show the video feed that is being captured. Videos are just images played in a sequence\n",
    "    if cv2.waitKey(1) & 0xFF == 27: # break mechanism\n",
    "        break\n",
    "cap.release() # release the capture obj        \n",
    "cv2.destroyAllWindows() "
   ]
  },
  {
   "cell_type": "markdown",
   "metadata": {},
   "source": [
    "# Write Video Files"
   ]
  },
  {
   "cell_type": "code",
   "execution_count": 1,
   "metadata": {},
   "outputs": [],
   "source": [
    "import cv2\n",
    "cap = cv2.VideoCapture(0) # video capture object\n",
    "width = int(cap.get(cv2.CAP_PROP_FRAME_WIDTH)) # store the width of the video\n",
    "height = int(cap.get(cv2.CAP_PROP_FRAME_HEIGHT)) # store the height of the video\n",
    "writer = cv2.VideoWriter('bishwa.mp4', cv2.VideoWriter_fourcc(*'DIVX'), 30, (width, height)) # video writer object with DIVX codex and 30fps\n",
    "while True:\n",
    "    ret, frame = cap.read() # capture the frame\n",
    "    writer.write(frame) # write the frame\n",
    "#     gray = cv2.cvtColor(frame, cv2.COLOR_BGR2GRAY) # capture bnw image\n",
    "    cv2.imshow('frame',frame) # show the video feed that is being captured. Videos are just images played in a sequence\n",
    "    if cv2.waitKey(1) & 0xFF == 27: # break mechanism\n",
    "        break\n",
    "cap.release() # release the capture obj        \n",
    "writer.release() # release the writer obj\n",
    "cv2.destroyAllWindows() "
   ]
  },
  {
   "cell_type": "markdown",
   "metadata": {},
   "source": [
    "# Read Video Files"
   ]
  },
  {
   "cell_type": "code",
   "execution_count": 3,
   "metadata": {},
   "outputs": [],
   "source": [
    "import cv2\n",
    "cap = cv2.VideoCapture(r\"E:\\Course\\Python for Computer Vision with OpenCV and Deep Learning\\1. Course Overview and Introduction\\Computer-Vision-with-Python\\DATA\\finger_move.mp4\")\n",
    "while cap.isOpened():\n",
    "    ret, frame = cap.read()\n",
    "    if ret == True:\n",
    "        cv2.imshow('frame',frame)\n",
    "        if cv2.waitKey(10) & 0xFF == 27:\n",
    "            break\n",
    "    else:\n",
    "        break\n",
    "cap.release()\n",
    "cv2.destroyAllWindows()"
   ]
  },
  {
   "cell_type": "markdown",
   "metadata": {},
   "source": [
    "# Drawing on Video File"
   ]
  },
  {
   "cell_type": "code",
   "execution_count": 9,
   "metadata": {},
   "outputs": [],
   "source": [
    "import cv2\n",
    "cap = cv2.VideoCapture(r\"E:\\Course\\Python for Computer Vision with OpenCV and Deep Learning\\1. Course Overview and Introduction\\Computer-Vision-with-Python\\DATA\\finger_move.mp4\")\n",
    "width = int(cap.get(cv2.CAP_PROP_FRAME_WIDTH))\n",
    "height = int(cap.get(cv2.CAP_PROP_FRAME_HEIGHT))\n",
    "while True:\n",
    "    ret, frame = cap.read()\n",
    "    cv2.rectangle(frame, pt1 = (width//2, height//2), pt2 = (width//20, height//20), color = (0, 0, 0), thickness = 1)\n",
    "    cv2.imshow('frame', frame)\n",
    "    if cv2.waitKey(10) & 0xFF == 27:\n",
    "        break\n",
    "        \n",
    "cap.release()\n",
    "cv2.destroyAllWindows()"
   ]
  },
  {
   "cell_type": "markdown",
   "metadata": {},
   "source": [
    "# Drawing on WebCam"
   ]
  },
  {
   "cell_type": "code",
   "execution_count": 11,
   "metadata": {},
   "outputs": [],
   "source": [
    "import cv2\n",
    "cap = cv2.VideoCapture(0) # video capture object\n",
    "width = int(cap.get(cv2.CAP_PROP_FRAME_WIDTH))\n",
    "height = int(cap.get(cv2.CAP_PROP_FRAME_HEIGHT))\n",
    "while True:\n",
    "    ret, frame = cap.read() # capture the frame\n",
    "    cv2.rectangle(frame, pt1 = (width//2, height//2), pt2 = (width//20, height//20), color = (0, 0, 0), thickness = 1)\n",
    "    cv2.imshow('frame',frame) # show the video feed that is being captured. Videos are just images played in a sequence\n",
    "    if cv2.waitKey(1) & 0xFF == 27: # break mechanism\n",
    "        break\n",
    "cap.release() # release the capture obj        \n",
    "cv2.destroyAllWindows() "
   ]
  }
 ],
 "metadata": {
  "kernelspec": {
   "display_name": "Python 3",
   "language": "python",
   "name": "python3"
  },
  "language_info": {
   "codemirror_mode": {
    "name": "ipython",
    "version": 3
   },
   "file_extension": ".py",
   "mimetype": "text/x-python",
   "name": "python",
   "nbconvert_exporter": "python",
   "pygments_lexer": "ipython3",
   "version": "3.7.9"
  }
 },
 "nbformat": 4,
 "nbformat_minor": 4
}
