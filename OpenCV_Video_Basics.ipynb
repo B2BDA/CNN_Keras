{
 "cells": [
  {
   "cell_type": "markdown",
   "metadata": {},
   "source": [
    "# Connect WebCam using OpenCV"
   ]
  },
  {
   "cell_type": "code",
   "execution_count": 10,
   "metadata": {},
   "outputs": [],
   "source": [
    "import cv2\n",
    "cap = cv2.VideoCapture(0) # video capture object\n",
    "while True:\n",
    "    ret, frame = cap.read() # capture the frame\n",
    "    cv2.imshow('frame',frame) # show the video feed that is being captured. Videos are just images played in a sequence\n",
    "    if cv2.waitKey(1) & 0xFF == 27: # break mechanism\n",
    "        break\n",
    "cap.release() # release the capture obj        \n",
    "cv2.destroyAllWindows() "
   ]
  },
  {
   "cell_type": "markdown",
   "metadata": {},
   "source": [
    "# Write Video Files"
   ]
  },
  {
   "cell_type": "code",
   "execution_count": 1,
   "metadata": {},
   "outputs": [],
   "source": [
    "import cv2\n",
    "cap = cv2.VideoCapture(0) # video capture object\n",
    "width = int(cap.get(cv2.CAP_PROP_FRAME_WIDTH)) # store the width of the video\n",
    "height = int(cap.get(cv2.CAP_PROP_FRAME_HEIGHT)) # store the height of the video\n",
    "writer = cv2.VideoWriter('bishwa.mp4', cv2.VideoWriter_fourcc(*'DIVX'), 30, (width, height)) # video writer object with DIVX codex and 30fps\n",
    "while True:\n",
    "    ret, frame = cap.read() # capture the frame\n",
    "    writer.write(frame) # write the frame\n",
    "#     gray = cv2.cvtColor(frame, cv2.COLOR_BGR2GRAY) # capture bnw image\n",
    "    cv2.imshow('frame',frame) # show the video feed that is being captured. Videos are just images played in a sequence\n",
    "    if cv2.waitKey(1) & 0xFF == 27: # break mechanism\n",
    "        break\n",
    "cap.release() # release the capture obj        \n",
    "writer.release() # release the writer obj\n",
    "cv2.destroyAllWindows() "
   ]
  },
  {
   "cell_type": "markdown",
   "metadata": {},
   "source": [
    "# Read Video Files"
   ]
  },
  {
   "cell_type": "code",
   "execution_count": 3,
   "metadata": {},
   "outputs": [],
   "source": [
    "import cv2\n",
    "cap = cv2.VideoCapture(r\"E:\\Course\\Python for Computer Vision with OpenCV and Deep Learning\\1. Course Overview and Introduction\\Computer-Vision-with-Python\\DATA\\finger_move.mp4\")\n",
    "while cap.isOpened():\n",
    "    ret, frame = cap.read()\n",
    "    if ret == True:\n",
    "        cv2.imshow('frame',frame)\n",
    "        if cv2.waitKey(10) & 0xFF == 27:\n",
    "            break\n",
    "    else:\n",
    "        break\n",
    "cap.release()\n",
    "cv2.destroyAllWindows()"
   ]
  },
  {
   "cell_type": "markdown",
   "metadata": {},
   "source": [
    "# Drawing on Video File"
   ]
  },
  {
   "cell_type": "code",
   "execution_count": 9,
   "metadata": {},
   "outputs": [],
   "source": [
    "import cv2\n",
    "cap = cv2.VideoCapture(r\"E:\\Course\\Python for Computer Vision with OpenCV and Deep Learning\\1. Course Overview and Introduction\\Computer-Vision-with-Python\\DATA\\finger_move.mp4\")\n",
    "width = int(cap.get(cv2.CAP_PROP_FRAME_WIDTH))\n",
    "height = int(cap.get(cv2.CAP_PROP_FRAME_HEIGHT))\n",
    "while True:\n",
    "    ret, frame = cap.read()\n",
    "    cv2.rectangle(frame, pt1 = (width//2, height//2), pt2 = (width//20, height//20), color = (0, 0, 0), thickness = 1)\n",
    "    cv2.imshow('frame', frame)\n",
    "    if cv2.waitKey(10) & 0xFF == 27:\n",
    "        break\n",
    "        \n",
    "cap.release()\n",
    "cv2.destroyAllWindows()"
   ]
  },
  {
   "cell_type": "markdown",
   "metadata": {},
   "source": [
    "# Drawing static shapes on WebCam"
   ]
  },
  {
   "cell_type": "code",
   "execution_count": 1,
   "metadata": {},
   "outputs": [],
   "source": [
    "import cv2\n",
    "cap = cv2.VideoCapture(0) # video capture object\n",
    "width = int(cap.get(cv2.CAP_PROP_FRAME_WIDTH))\n",
    "height = int(cap.get(cv2.CAP_PROP_FRAME_HEIGHT))\n",
    "while True:\n",
    "    ret, frame = cap.read() # capture the frame\n",
    "    cv2.rectangle(frame, pt1 = (width//2, height//2), pt2 = (width//20, height//20), color = (0, 0, 0), thickness = 1)\n",
    "    cv2.imshow('frame',frame) # show the video feed that is being captured. Videos are just images played in a sequence\n",
    "    if cv2.waitKey(1) & 0xFF == 27: # break mechanism\n",
    "        break\n",
    "cap.release() # release the capture obj        \n",
    "cv2.destroyAllWindows() "
   ]
  },
  {
   "cell_type": "markdown",
   "metadata": {},
   "source": [
    "# Drawing dynamically on web cam"
   ]
  },
  {
   "cell_type": "code",
   "execution_count": 1,
   "metadata": {},
   "outputs": [],
   "source": [
    "import cv2\n",
    "import numpy as np\n",
    " # video capture object\n",
    "pt1 = (0,0)\n",
    "pt2 = (0,0)\n",
    "topLeft_clicked = False\n",
    "bottomRight_clicked = False\n",
    "def draw_rect(event, x,y, flags, params):\n",
    "    global pt1, pt2, topLeft_clicked, bottomRight_clicked\n",
    "    if event == cv2.EVENT_LBUTTONDOWN:\n",
    "        if topLeft_clicked == True and bottomRight_clicked == True: # reset the rectangle as it has already been drawn\n",
    "            pt1 = (0,0)\n",
    "            pt2 = (0,0)\n",
    "            topLeft_clicked = False\n",
    "            bottomRight_clicked = False\n",
    "        if topLeft_clicked == False: #start tracking the pt1 of the rect\n",
    "            pt1 = (x,y)\n",
    "            topLeft_clicked = True\n",
    "        elif bottomRight_clicked == False:\n",
    "            pt2 = (x,y)\n",
    "            bottomRight_clicked = True\n",
    "cap = cv2.VideoCapture(0)\n",
    "cv2.namedWindow(winname = 'boom.exe')\n",
    "cv2.setMouseCallback('boom.exe', draw_rect)\n",
    "while True:\n",
    "    ret, frame = cap.read()\n",
    "    if topLeft_clicked == True:\n",
    "        cv2.circle(frame,center = pt1, radius = 1, color = (0,0,255), thickness = -1) #draw a little circle so that we can track the pt1 of the rect\n",
    "    if topLeft_clicked == True and bottomRight_clicked == True:\n",
    "        cv2.rectangle(frame, pt1, pt2, color = (0,255,0), thickness = 2) #draw the rectangle as we have pt1 fixed from above and we know the last coord ie pt2\n",
    "    cv2.imshow('boom.exe',frame)\n",
    "    if cv2.waitKey(10) & 0xFF == 27:\n",
    "        break\n",
    "cap.release()\n",
    "cv2.destroyAllWindows()"
   ]
  },
  {
   "cell_type": "markdown",
   "metadata": {},
   "source": [
    "# Practise Time\n",
    "Write a code that will draw circle on live cam"
   ]
  },
  {
   "cell_type": "code",
   "execution_count": 8,
   "metadata": {},
   "outputs": [],
   "source": [
    "import cv2\n",
    "import numpy as np\n",
    " # video capture object\n",
    "pt1 = (0,0)\n",
    "topLeft_clicked = False\n",
    "def draw_circle(event, x,y, flags, params):\n",
    "    global pt1, topLeft_clicked\n",
    "    if event == cv2.EVENT_LBUTTONDOWN:\n",
    "        if topLeft_clicked == True: # reset the rectangle as it has already been drawn\n",
    "            pt1 = (0,0)\n",
    "            topLeft_clicked = False\n",
    "        if topLeft_clicked == False: #start tracking the pt1 of the rect\n",
    "            pt1 = (x,y)\n",
    "            topLeft_clicked = True\n",
    "        \n",
    "cap = cv2.VideoCapture(0)\n",
    "cv2.namedWindow(winname = 'boom.exe')\n",
    "cv2.setMouseCallback('boom.exe', draw_circle)\n",
    "while True:\n",
    "    ret, frame = cap.read()\n",
    "    if topLeft_clicked == True:\n",
    "        cv2.circle(frame,center = pt1, radius = 100,color = (0,255,0), thickness = 10)\n",
    "    cv2.imshow('boom.exe',frame)\n",
    "    if cv2.waitKey(10) & 0xFF == 27:\n",
    "        break\n",
    "cap.release()\n",
    "cv2.destroyAllWindows()"
   ]
  },
  {
   "cell_type": "code",
   "execution_count": null,
   "metadata": {},
   "outputs": [],
   "source": []
  }
 ],
 "metadata": {
  "kernelspec": {
   "display_name": "Python 3",
   "language": "python",
   "name": "python3"
  },
  "language_info": {
   "codemirror_mode": {
    "name": "ipython",
    "version": 3
   },
   "file_extension": ".py",
   "mimetype": "text/x-python",
   "name": "python",
   "nbconvert_exporter": "python",
   "pygments_lexer": "ipython3",
   "version": "3.7.9"
  }
 },
 "nbformat": 4,
 "nbformat_minor": 4
}
