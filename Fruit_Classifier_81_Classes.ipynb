{
 "cells": [
  {
   "cell_type": "code",
   "execution_count": 1,
   "metadata": {},
   "outputs": [],
   "source": [
    "import os"
   ]
  },
  {
   "cell_type": "code",
   "execution_count": 2,
   "metadata": {},
   "outputs": [],
   "source": [
    "os.chdir(r\"E:\\Course\\Deep Learning Computer Vision™ CNN, OpenCV, YOLO, SSD & GANs\\12. Types of Optimizers, Learning Rates & Callbacks Build a Fruit Classifier\\fruits-360\")"
   ]
  },
  {
   "cell_type": "code",
   "execution_count": 3,
   "metadata": {},
   "outputs": [
    {
     "data": {
      "text/plain": [
       "'E:\\\\Course\\\\Deep Learning Computer Vision™ CNN, OpenCV, YOLO, SSD & GANs\\\\12. Types of Optimizers, Learning Rates & Callbacks Build a Fruit Classifier\\\\fruits-360'"
      ]
     },
     "execution_count": 3,
     "metadata": {},
     "output_type": "execute_result"
    }
   ],
   "source": [
    "os.getcwd()"
   ]
  },
  {
   "cell_type": "code",
   "execution_count": 4,
   "metadata": {},
   "outputs": [],
   "source": [
    "std_img_dim  = (32,32,3)"
   ]
  },
  {
   "cell_type": "code",
   "execution_count": 5,
   "metadata": {},
   "outputs": [],
   "source": [
    "train = os.getcwd()+'\\\\'+os.listdir()[-2]\n",
    "validation = os.getcwd()+'\\\\'+os.listdir()[-1]"
   ]
  },
  {
   "cell_type": "code",
   "execution_count": 6,
   "metadata": {},
   "outputs": [],
   "source": [
    "from tensorflow.keras.preprocessing import image\n",
    "from tensorflow.keras.layers import Flatten, Dense, Convolution2D, MaxPooling2D, Dropout\n",
    "from tensorflow.keras.models import Sequential\n",
    "from tensorflow.keras.utils import to_categorical"
   ]
  },
  {
   "cell_type": "code",
   "execution_count": 7,
   "metadata": {},
   "outputs": [],
   "source": [
    "from tensorflow.keras.preprocessing.image import ImageDataGenerator"
   ]
  },
  {
   "cell_type": "code",
   "execution_count": 8,
   "metadata": {},
   "outputs": [],
   "source": [
    "img_gen = ImageDataGenerator(rotation_range = 20, width_shift_range = 0.1, height_shift_range = 0.1, shear_range = 0.1, horizontal_flip = True, rescale = 1./255)"
   ]
  },
  {
   "cell_type": "code",
   "execution_count": 9,
   "metadata": {},
   "outputs": [
    {
     "name": "stdout",
     "output_type": "stream",
     "text": [
      "Found 13877 images belonging to 81 classes.\n",
      "Found 0 images belonging to 0 classes.\n"
     ]
    }
   ],
   "source": [
    "train_img_gen = img_gen.flow_from_directory(train, target_size = std_img_dim[:2], batch_size = 10)\n",
    "validation_img_gen = img_gen.flow_from_directory(validation, target_size = std_img_dim[:2], shuffle = False, batch_size = 10)"
   ]
  },
  {
   "cell_type": "code",
   "execution_count": 14,
   "metadata": {},
   "outputs": [],
   "source": [
    "model = Sequential()"
   ]
  },
  {
   "cell_type": "code",
   "execution_count": 15,
   "metadata": {},
   "outputs": [],
   "source": [
    "model.add(Convolution2D(filters = 32, kernel_size = (3,3), padding = 'same', activation = 'relu', input_shape = std_img_dim))\n",
    "model.add(Convolution2D(filters = 32, kernel_size = (3,3), padding = 'same', activation = 'relu', input_shape = std_img_dim))"
   ]
  },
  {
   "cell_type": "code",
   "execution_count": 16,
   "metadata": {},
   "outputs": [],
   "source": [
    "model.add(MaxPooling2D(pool_size = (2,2)))"
   ]
  },
  {
   "cell_type": "code",
   "execution_count": 17,
   "metadata": {},
   "outputs": [],
   "source": [
    "model.add(Dropout(0.25))"
   ]
  },
  {
   "cell_type": "code",
   "execution_count": 18,
   "metadata": {},
   "outputs": [],
   "source": [
    "model.add(Convolution2D(filters = 64, kernel_size = (3,3), padding = 'same', activation = 'relu', input_shape = std_img_dim))\n",
    "model.add(Convolution2D(filters = 64, kernel_size = (3,3), padding = 'same', activation = 'relu', input_shape = std_img_dim))"
   ]
  },
  {
   "cell_type": "code",
   "execution_count": 19,
   "metadata": {},
   "outputs": [],
   "source": [
    "model.add(MaxPooling2D(pool_size = (2,2)))"
   ]
  },
  {
   "cell_type": "code",
   "execution_count": 20,
   "metadata": {},
   "outputs": [],
   "source": [
    "model.add(Dropout(0.25))"
   ]
  },
  {
   "cell_type": "code",
   "execution_count": 21,
   "metadata": {},
   "outputs": [],
   "source": [
    "model.add(Flatten())"
   ]
  },
  {
   "cell_type": "code",
   "execution_count": 22,
   "metadata": {},
   "outputs": [],
   "source": [
    "model.add(Dense(512, activation = 'relu'))"
   ]
  },
  {
   "cell_type": "code",
   "execution_count": 23,
   "metadata": {},
   "outputs": [],
   "source": [
    "model.add(Dense(81, activation = 'softmax'))"
   ]
  },
  {
   "cell_type": "code",
   "execution_count": 24,
   "metadata": {},
   "outputs": [],
   "source": [
    "model.compile(optimizer = 'rmsprop', loss = 'categorical_crossentropy', metrics = 'accuracy')"
   ]
  },
  {
   "cell_type": "code",
   "execution_count": 26,
   "metadata": {},
   "outputs": [],
   "source": [
    "from tensorflow.keras.callbacks import EarlyStopping, ReduceLROnPlateau, ModelCheckpoint"
   ]
  },
  {
   "cell_type": "code",
   "execution_count": 27,
   "metadata": {},
   "outputs": [],
   "source": [
    "early_stop = EarlyStopping(monitor = 'accuracy', patience = 2)\n",
    "reduce_lr = ReduceLROnPlateau(monitor = 'accuracy', factor = 0.2, patience = 2)\n",
    "model_checkp = ModelCheckpoint(filepath = os.getcwd(), monitor = 'accuracy', save_best_only = True)"
   ]
  },
  {
   "cell_type": "code",
   "execution_count": 28,
   "metadata": {},
   "outputs": [
    {
     "name": "stdout",
     "output_type": "stream",
     "text": [
      "Epoch 1/10\n",
      "4133/4133 [==============================] - ETA: 0s - loss: 0.9150 - accuracy: 0.7282WARNING:tensorflow:From C:\\ProgramData\\Anaconda3\\lib\\site-packages\\tensorflow\\python\\training\\tracking\\tracking.py:111: Model.state_updates (from tensorflow.python.keras.engine.training) is deprecated and will be removed in a future version.\n",
      "Instructions for updating:\n",
      "This property should not be used in TensorFlow 2.0, as updates are applied automatically.\n",
      "WARNING:tensorflow:From C:\\ProgramData\\Anaconda3\\lib\\site-packages\\tensorflow\\python\\training\\tracking\\tracking.py:111: Layer.updates (from tensorflow.python.keras.engine.base_layer) is deprecated and will be removed in a future version.\n",
      "Instructions for updating:\n",
      "This property should not be used in TensorFlow 2.0, as updates are applied automatically.\n",
      "INFO:tensorflow:Assets written to: E:\\Course\\Deep Learning Computer Vision™ CNN, OpenCV, YOLO, SSD & GANs\\12. Types of Optimizers, Learning Rates & Callbacks Build a Fruit Classifier\\fruits-360\\assets\n",
      "4133/4133 [==============================] - 2339s 566ms/step - loss: 0.9150 - accuracy: 0.7282 - val_loss: 0.5696 - val_accuracy: 0.8706\n",
      "Epoch 2/10\n",
      "4133/4133 [==============================] - ETA: 0s - loss: 0.2587 - accuracy: 0.9258INFO:tensorflow:Assets written to: E:\\Course\\Deep Learning Computer Vision™ CNN, OpenCV, YOLO, SSD & GANs\\12. Types of Optimizers, Learning Rates & Callbacks Build a Fruit Classifier\\fruits-360\\assets\n",
      "4133/4133 [==============================] - 254s 61ms/step - loss: 0.2587 - accuracy: 0.9258 - val_loss: 0.3603 - val_accuracy: 0.9088\n",
      "Epoch 3/10\n",
      "4133/4133 [==============================] - ETA: 0s - loss: 0.2539 - accuracy: 0.9433INFO:tensorflow:Assets written to: E:\\Course\\Deep Learning Computer Vision™ CNN, OpenCV, YOLO, SSD & GANs\\12. Types of Optimizers, Learning Rates & Callbacks Build a Fruit Classifier\\fruits-360\\assets\n",
      "4133/4133 [==============================] - 250s 60ms/step - loss: 0.2539 - accuracy: 0.9433 - val_loss: 0.4271 - val_accuracy: 0.9291\n",
      "Epoch 4/10\n",
      "4133/4133 [==============================] - ETA: 0s - loss: 0.2729 - accuracy: 0.9488INFO:tensorflow:Assets written to: E:\\Course\\Deep Learning Computer Vision™ CNN, OpenCV, YOLO, SSD & GANs\\12. Types of Optimizers, Learning Rates & Callbacks Build a Fruit Classifier\\fruits-360\\assets\n",
      "4133/4133 [==============================] - 259s 63ms/step - loss: 0.2729 - accuracy: 0.9488 - val_loss: 0.4985 - val_accuracy: 0.9202\n",
      "Epoch 5/10\n",
      "4133/4133 [==============================] - ETA: 0s - loss: 0.2938 - accuracy: 0.9526INFO:tensorflow:Assets written to: E:\\Course\\Deep Learning Computer Vision™ CNN, OpenCV, YOLO, SSD & GANs\\12. Types of Optimizers, Learning Rates & Callbacks Build a Fruit Classifier\\fruits-360\\assets\n",
      "4133/4133 [==============================] - 289s 70ms/step - loss: 0.2938 - accuracy: 0.9526 - val_loss: 0.3920 - val_accuracy: 0.9328\n",
      "Epoch 6/10\n",
      "4133/4133 [==============================] - ETA: 0s - loss: 0.3667 - accuracy: 0.9538INFO:tensorflow:Assets written to: E:\\Course\\Deep Learning Computer Vision™ CNN, OpenCV, YOLO, SSD & GANs\\12. Types of Optimizers, Learning Rates & Callbacks Build a Fruit Classifier\\fruits-360\\assets\n",
      "4133/4133 [==============================] - 311s 75ms/step - loss: 0.3667 - accuracy: 0.9538 - val_loss: 0.6477 - val_accuracy: 0.9362\n",
      "Epoch 7/10\n",
      "4133/4133 [==============================] - ETA: 0s - loss: 0.4055 - accuracy: 0.9552INFO:tensorflow:Assets written to: E:\\Course\\Deep Learning Computer Vision™ CNN, OpenCV, YOLO, SSD & GANs\\12. Types of Optimizers, Learning Rates & Callbacks Build a Fruit Classifier\\fruits-360\\assets\n",
      "4133/4133 [==============================] - 306s 74ms/step - loss: 0.4055 - accuracy: 0.9552 - val_loss: 0.4529 - val_accuracy: 0.9331\n",
      "Epoch 8/10\n",
      "4133/4133 [==============================] - ETA: 0s - loss: 0.4324 - accuracy: 0.9580INFO:tensorflow:Assets written to: E:\\Course\\Deep Learning Computer Vision™ CNN, OpenCV, YOLO, SSD & GANs\\12. Types of Optimizers, Learning Rates & Callbacks Build a Fruit Classifier\\fruits-360\\assets\n",
      "4133/4133 [==============================] - 270s 65ms/step - loss: 0.4324 - accuracy: 0.9580 - val_loss: 0.4500 - val_accuracy: 0.9528\n",
      "Epoch 9/10\n",
      "4133/4133 [==============================] - ETA: 0s - loss: 0.5081 - accuracy: 0.9593INFO:tensorflow:Assets written to: E:\\Course\\Deep Learning Computer Vision™ CNN, OpenCV, YOLO, SSD & GANs\\12. Types of Optimizers, Learning Rates & Callbacks Build a Fruit Classifier\\fruits-360\\assets\n",
      "4133/4133 [==============================] - 275s 67ms/step - loss: 0.5081 - accuracy: 0.9593 - val_loss: 0.6356 - val_accuracy: 0.9568\n",
      "Epoch 10/10\n",
      "4133/4133 [==============================] - ETA: 0s - loss: 0.5648 - accuracy: 0.9612INFO:tensorflow:Assets written to: E:\\Course\\Deep Learning Computer Vision™ CNN, OpenCV, YOLO, SSD & GANs\\12. Types of Optimizers, Learning Rates & Callbacks Build a Fruit Classifier\\fruits-360\\assets\n",
      "4133/4133 [==============================] - 302s 73ms/step - loss: 0.5648 - accuracy: 0.9612 - val_loss: 0.6993 - val_accuracy: 0.9503\n"
     ]
    },
    {
     "data": {
      "text/plain": [
       "<tensorflow.python.keras.callbacks.History at 0x1de16c646d0>"
      ]
     },
     "execution_count": 28,
     "metadata": {},
     "output_type": "execute_result"
    }
   ],
   "source": [
    "model.fit(train_img_gen, batch_size = 32, epochs = 10, validation_data = validation_img_gen, callbacks = [early_stop, reduce_lr, model_checkp])"
   ]
  },
  {
   "cell_type": "code",
   "execution_count": 29,
   "metadata": {},
   "outputs": [],
   "source": [
    "from sklearn.metrics import classification_report\n",
    "import numpy as np"
   ]
  },
  {
   "cell_type": "code",
   "execution_count": 30,
   "metadata": {},
   "outputs": [],
   "source": [
    "prediction = np.argmax(model.predict(validation_img_gen), axis=-1)\n"
   ]
  },
  {
   "cell_type": "code",
   "execution_count": 31,
   "metadata": {},
   "outputs": [
    {
     "data": {
      "text/plain": [
       "array([ 0,  0,  0, ..., 80, 80, 80], dtype=int64)"
      ]
     },
     "execution_count": 31,
     "metadata": {},
     "output_type": "execute_result"
    }
   ],
   "source": [
    "prediction"
   ]
  },
  {
   "cell_type": "code",
   "execution_count": 32,
   "metadata": {},
   "outputs": [
    {
     "name": "stdout",
     "output_type": "stream",
     "text": [
      "              precision    recall  f1-score   support\n",
      "\n",
      "           0       0.80      0.87      0.83       164\n",
      "           1       0.97      0.99      0.98       164\n",
      "           2       0.99      1.00      1.00       164\n",
      "           3       0.78      0.94      0.85       161\n",
      "           4       1.00      0.74      0.85       164\n",
      "           5       0.81      0.89      0.85       164\n",
      "           6       1.00      0.77      0.87       164\n",
      "           7       0.93      0.92      0.92       144\n",
      "           8       1.00      1.00      1.00       166\n",
      "           9       0.84      0.84      0.84       164\n",
      "          10       1.00      0.98      0.99       164\n",
      "          11       1.00      0.98      0.99       143\n",
      "          12       1.00      1.00      1.00       166\n",
      "          13       0.96      0.96      0.96       166\n",
      "          14       0.98      0.99      0.99       166\n",
      "          15       0.96      0.96      0.96       166\n",
      "          16       1.00      1.00      1.00       164\n",
      "          17       0.96      1.00      0.98       164\n",
      "          18       0.95      0.98      0.96       166\n",
      "          19       0.64      0.87      0.74       164\n",
      "          20       0.84      0.54      0.66       246\n",
      "          21       0.89      0.97      0.93       246\n",
      "          22       1.00      1.00      1.00       164\n",
      "          23       0.99      1.00      0.99       164\n",
      "          24       1.00      1.00      1.00       164\n",
      "          25       1.00      0.58      0.73       166\n",
      "          26       0.99      1.00      1.00       166\n",
      "          27       1.00      1.00      1.00       166\n",
      "          28       0.96      1.00      0.98       166\n",
      "          29       0.69      1.00      0.82       164\n",
      "          30       1.00      1.00      1.00       166\n",
      "          31       1.00      1.00      1.00       166\n",
      "          32       0.87      1.00      0.93       166\n",
      "          33       0.95      1.00      0.98       164\n",
      "          34       1.00      1.00      1.00       166\n",
      "          35       1.00      1.00      1.00       166\n",
      "          36       1.00      0.98      0.99       166\n",
      "          37       0.98      1.00      0.99       156\n",
      "          38       1.00      1.00      1.00       166\n",
      "          39       1.00      0.96      0.98       164\n",
      "          40       1.00      1.00      1.00       166\n",
      "          41       0.99      0.99      0.99       166\n",
      "          42       0.85      1.00      0.92       166\n",
      "          43       0.99      0.99      0.99       166\n",
      "          44       1.00      0.99      1.00       166\n",
      "          45       1.00      0.92      0.96       166\n",
      "          46       1.00      1.00      1.00       246\n",
      "          47       1.00      1.00      1.00       164\n",
      "          48       0.94      0.62      0.74       164\n",
      "          49       1.00      1.00      1.00       160\n",
      "          50       0.99      1.00      1.00       164\n",
      "          51       1.00      1.00      1.00       166\n",
      "          52       0.92      0.81      0.86       164\n",
      "          53       0.99      0.85      0.92       164\n",
      "          54       0.93      0.99      0.96       164\n",
      "          55       0.98      0.98      0.98       166\n",
      "          56       0.96      1.00      0.98       166\n",
      "          57       1.00      1.00      1.00       166\n",
      "          58       0.98      1.00      0.99       166\n",
      "          59       1.00      1.00      1.00       164\n",
      "          60       1.00      0.99      1.00       164\n",
      "          61       1.00      0.99      1.00       166\n",
      "          62       0.96      0.84      0.90       163\n",
      "          63       0.89      0.95      0.92       166\n",
      "          64       0.99      1.00      0.99       151\n",
      "          65       0.97      0.83      0.89       164\n",
      "          66       0.98      1.00      0.99       166\n",
      "          67       0.99      1.00      1.00       164\n",
      "          68       1.00      1.00      1.00       166\n",
      "          69       0.93      1.00      0.96       162\n",
      "          70       0.99      0.88      0.93       164\n",
      "          71       0.92      0.99      0.95       246\n",
      "          72       0.99      0.89      0.94       166\n",
      "          73       0.97      1.00      0.98       166\n",
      "          74       1.00      0.94      0.97       246\n",
      "          75       0.99      0.85      0.92       225\n",
      "          76       0.86      0.99      0.92       246\n",
      "          77       0.98      0.99      0.98       160\n",
      "          78       0.72      1.00      0.83       164\n",
      "          79       0.98      0.99      0.98       127\n",
      "          80       1.00      1.00      1.00       249\n",
      "\n",
      "    accuracy                           0.95     13877\n",
      "   macro avg       0.96      0.95      0.95     13877\n",
      "weighted avg       0.95      0.95      0.95     13877\n",
      "\n"
     ]
    }
   ],
   "source": [
    "print(classification_report(validation_img_gen.classes, prediction))"
   ]
  },
  {
   "cell_type": "code",
   "execution_count": 64,
   "metadata": {},
   "outputs": [],
   "source": [
    "os.chdir(r\"D:\\B2B_Git_Instance\\CNN_Keras\")\n",
    "\n",
    "model.save(\"fruit_classifier.h5\")"
   ]
  },
  {
   "cell_type": "code",
   "execution_count": null,
   "metadata": {},
   "outputs": [],
   "source": []
  },
  {
   "cell_type": "code",
   "execution_count": 16,
   "metadata": {},
   "outputs": [],
   "source": [
    "from kerastuner import HyperModel, Hyperband"
   ]
  },
  {
   "cell_type": "code",
   "execution_count": 57,
   "metadata": {},
   "outputs": [],
   "source": [
    "from kerastuner import HyperModel\n",
    "\n",
    "\n",
    "class CNNHyperModel(HyperModel):\n",
    "    def __init__(self, input_shape, num_classes):\n",
    "        self.input_shape = input_shape\n",
    "        self.num_classes = num_classes\n",
    "\n",
    "    def build(self, hp):\n",
    "        model = Sequential()\n",
    "        model.add(\n",
    "            Convolution2D(\n",
    "                filters=hp.Int(name = 'conv_1', min_value = 32, max_value = 64, step = 16),\n",
    "                kernel_size=hp.Choice(name= 'conv_1', values  = [3,6]),\n",
    "                activation='relu',\n",
    "                input_shape=self.input_shape, padding = 'same'\n",
    "            )\n",
    "        )\n",
    "        model.add(\n",
    "            Convolution2D(\n",
    "                filters=hp.Int(name = 'conv_2', min_value = 32, max_value = 64, step = 16),\n",
    "                kernel_size=hp.Choice(name= 'conv_2', values  = [3,6]),\n",
    "                activation='relu',\n",
    "                input_shape=self.input_shape, padding = 'same'\n",
    "            )\n",
    "        )\n",
    "        model.add(MaxPooling2D(pool_size=hp.Choice(name = 'max_pool_1', values = [2,4])))\n",
    "        model.add(\n",
    "            Dropout(rate=hp.Float(\n",
    "                'dropout_1',\n",
    "                min_value=0.0,\n",
    "                max_value=0.5,\n",
    "                default=0.25,\n",
    "                step=0.05\n",
    "            ))\n",
    "        )\n",
    "        model.add(\n",
    "            Convolution2D(\n",
    "                filters=hp.Int(name = 'conv_3', min_value = 64, max_value = 128, step = 16),\n",
    "                kernel_size=hp.Choice(name= 'conv_3', values  = [3,6]),\n",
    "                activation='relu',\n",
    "                input_shape=self.input_shape, padding = 'same'\n",
    "            )\n",
    "        )\n",
    "        model.add(\n",
    "            Convolution2D(\n",
    "                filters=hp.Int(name = 'conv_4', min_value = 64, max_value = 128, step = 16),\n",
    "                kernel_size=hp.Choice(name= 'conv_4', values  = [3,6]),\n",
    "                activation='relu',\n",
    "                input_shape=self.input_shape, padding = 'same'\n",
    "            )\n",
    "        )\n",
    "        model.add(MaxPooling2D(pool_size=hp.Choice(name = 'max_pool_2', values = [2,4])))\n",
    "        model.add(\n",
    "            Dropout(rate=hp.Float(\n",
    "                'dropout_2',\n",
    "                min_value=0.0,\n",
    "                max_value=0.5,\n",
    "                default=0.25,\n",
    "                step=0.05,\n",
    "            ))\n",
    "        )\n",
    "        model.add(Flatten())\n",
    "        model.add(\n",
    "            Dense(\n",
    "                units=hp.Int(\n",
    "                    'units',\n",
    "                    min_value=512,\n",
    "                    max_value=512**2,\n",
    "                    step=32,\n",
    "                    default=512\n",
    "                ),\n",
    "                activation=hp.Choice(\n",
    "                    'dense_activation',\n",
    "                    values=['relu', 'tanh', 'sigmoid'],\n",
    "                    default='relu'\n",
    "                )\n",
    "            )\n",
    "        )\n",
    "        model.add(\n",
    "            Dropout(\n",
    "                rate=hp.Float(\n",
    "                    'dropout_3',\n",
    "                    min_value=0.0,\n",
    "                    max_value=0.5,\n",
    "                    default=0.25,\n",
    "                    step=0.05\n",
    "                )\n",
    "            )\n",
    "        )\n",
    "        model.add(Dense(self.num_classes, activation='softmax'))\n",
    "        model.compile(optimizer = 'rmsprop', loss = 'categorical_crossentropy', metrics = 'accuracy')\n",
    "        return model\n",
    "\n",
    "hypermodel = CNNHyperModel(input_shape=std_img_dim, num_classes=81)\n"
   ]
  },
  {
   "cell_type": "code",
   "execution_count": 58,
   "metadata": {},
   "outputs": [],
   "source": [
    "tuner = Hyperband(\n",
    "    hypermodel,\n",
    "    max_epochs=5,\n",
    "    objective='val_accuracy',\n",
    "    seed=1429,\n",
    "    executions_per_trial=5,\n",
    "    directory='hyperband',\n",
    "    project_name='fruitClassifier'\n",
    ")"
   ]
  },
  {
   "cell_type": "code",
   "execution_count": 59,
   "metadata": {},
   "outputs": [
    {
     "data": {
      "text/html": [
       "<span style=\"color:#4527A0\"><h1 style=\"font-size:18px\">Search space summary</h1></span>"
      ],
      "text/plain": [
       "<IPython.core.display.HTML object>"
      ]
     },
     "metadata": {},
     "output_type": "display_data"
    },
    {
     "data": {
      "text/html": [
       "<span style=\"color:cyan\"> |-Default search space size: 11</span>"
      ],
      "text/plain": [
       "<IPython.core.display.HTML object>"
      ]
     },
     "metadata": {},
     "output_type": "display_data"
    },
    {
     "data": {
      "text/html": [
       "<span style=\"color:#7E57C2\"><h2 style=\"font-size:16px\">conv_1 (Int)</h2></span>"
      ],
      "text/plain": [
       "<IPython.core.display.HTML object>"
      ]
     },
     "metadata": {},
     "output_type": "display_data"
    },
    {
     "data": {
      "text/html": [
       "<span style=\"color:cyan\"> |-default: None</span>"
      ],
      "text/plain": [
       "<IPython.core.display.HTML object>"
      ]
     },
     "metadata": {},
     "output_type": "display_data"
    },
    {
     "data": {
      "text/html": [
       "<span style=\"color:blue\"> |-max_value: 64</span>"
      ],
      "text/plain": [
       "<IPython.core.display.HTML object>"
      ]
     },
     "metadata": {},
     "output_type": "display_data"
    },
    {
     "data": {
      "text/html": [
       "<span style=\"color:cyan\"> |-min_value: 32</span>"
      ],
      "text/plain": [
       "<IPython.core.display.HTML object>"
      ]
     },
     "metadata": {},
     "output_type": "display_data"
    },
    {
     "data": {
      "text/html": [
       "<span style=\"color:blue\"> |-sampling: None</span>"
      ],
      "text/plain": [
       "<IPython.core.display.HTML object>"
      ]
     },
     "metadata": {},
     "output_type": "display_data"
    },
    {
     "data": {
      "text/html": [
       "<span style=\"color:cyan\"> |-step: 16</span>"
      ],
      "text/plain": [
       "<IPython.core.display.HTML object>"
      ]
     },
     "metadata": {},
     "output_type": "display_data"
    },
    {
     "data": {
      "text/html": [
       "<span style=\"color:#7E57C2\"><h2 style=\"font-size:16px\">conv_2 (Int)</h2></span>"
      ],
      "text/plain": [
       "<IPython.core.display.HTML object>"
      ]
     },
     "metadata": {},
     "output_type": "display_data"
    },
    {
     "data": {
      "text/html": [
       "<span style=\"color:cyan\"> |-default: None</span>"
      ],
      "text/plain": [
       "<IPython.core.display.HTML object>"
      ]
     },
     "metadata": {},
     "output_type": "display_data"
    },
    {
     "data": {
      "text/html": [
       "<span style=\"color:blue\"> |-max_value: 64</span>"
      ],
      "text/plain": [
       "<IPython.core.display.HTML object>"
      ]
     },
     "metadata": {},
     "output_type": "display_data"
    },
    {
     "data": {
      "text/html": [
       "<span style=\"color:cyan\"> |-min_value: 32</span>"
      ],
      "text/plain": [
       "<IPython.core.display.HTML object>"
      ]
     },
     "metadata": {},
     "output_type": "display_data"
    },
    {
     "data": {
      "text/html": [
       "<span style=\"color:blue\"> |-sampling: None</span>"
      ],
      "text/plain": [
       "<IPython.core.display.HTML object>"
      ]
     },
     "metadata": {},
     "output_type": "display_data"
    },
    {
     "data": {
      "text/html": [
       "<span style=\"color:cyan\"> |-step: 16</span>"
      ],
      "text/plain": [
       "<IPython.core.display.HTML object>"
      ]
     },
     "metadata": {},
     "output_type": "display_data"
    },
    {
     "data": {
      "text/html": [
       "<span style=\"color:#7E57C2\"><h2 style=\"font-size:16px\">max_pool_1 (Choice)</h2></span>"
      ],
      "text/plain": [
       "<IPython.core.display.HTML object>"
      ]
     },
     "metadata": {},
     "output_type": "display_data"
    },
    {
     "data": {
      "text/html": [
       "<span style=\"color:cyan\"> |-default: 2</span>"
      ],
      "text/plain": [
       "<IPython.core.display.HTML object>"
      ]
     },
     "metadata": {},
     "output_type": "display_data"
    },
    {
     "data": {
      "text/html": [
       "<span style=\"color:blue\"> |-ordered: True</span>"
      ],
      "text/plain": [
       "<IPython.core.display.HTML object>"
      ]
     },
     "metadata": {},
     "output_type": "display_data"
    },
    {
     "data": {
      "text/html": [
       "<span style=\"color:cyan\"> |-values: [2, 4]</span>"
      ],
      "text/plain": [
       "<IPython.core.display.HTML object>"
      ]
     },
     "metadata": {},
     "output_type": "display_data"
    },
    {
     "data": {
      "text/html": [
       "<span style=\"color:#7E57C2\"><h2 style=\"font-size:16px\">dropout_1 (Float)</h2></span>"
      ],
      "text/plain": [
       "<IPython.core.display.HTML object>"
      ]
     },
     "metadata": {},
     "output_type": "display_data"
    },
    {
     "data": {
      "text/html": [
       "<span style=\"color:cyan\"> |-default: 0.25</span>"
      ],
      "text/plain": [
       "<IPython.core.display.HTML object>"
      ]
     },
     "metadata": {},
     "output_type": "display_data"
    },
    {
     "data": {
      "text/html": [
       "<span style=\"color:blue\"> |-max_value: 0.5</span>"
      ],
      "text/plain": [
       "<IPython.core.display.HTML object>"
      ]
     },
     "metadata": {},
     "output_type": "display_data"
    },
    {
     "data": {
      "text/html": [
       "<span style=\"color:cyan\"> |-min_value: 0.0</span>"
      ],
      "text/plain": [
       "<IPython.core.display.HTML object>"
      ]
     },
     "metadata": {},
     "output_type": "display_data"
    },
    {
     "data": {
      "text/html": [
       "<span style=\"color:blue\"> |-sampling: None</span>"
      ],
      "text/plain": [
       "<IPython.core.display.HTML object>"
      ]
     },
     "metadata": {},
     "output_type": "display_data"
    },
    {
     "data": {
      "text/html": [
       "<span style=\"color:cyan\"> |-step: 0.05</span>"
      ],
      "text/plain": [
       "<IPython.core.display.HTML object>"
      ]
     },
     "metadata": {},
     "output_type": "display_data"
    },
    {
     "data": {
      "text/html": [
       "<span style=\"color:#7E57C2\"><h2 style=\"font-size:16px\">conv_3 (Int)</h2></span>"
      ],
      "text/plain": [
       "<IPython.core.display.HTML object>"
      ]
     },
     "metadata": {},
     "output_type": "display_data"
    },
    {
     "data": {
      "text/html": [
       "<span style=\"color:cyan\"> |-default: None</span>"
      ],
      "text/plain": [
       "<IPython.core.display.HTML object>"
      ]
     },
     "metadata": {},
     "output_type": "display_data"
    },
    {
     "data": {
      "text/html": [
       "<span style=\"color:blue\"> |-max_value: 128</span>"
      ],
      "text/plain": [
       "<IPython.core.display.HTML object>"
      ]
     },
     "metadata": {},
     "output_type": "display_data"
    },
    {
     "data": {
      "text/html": [
       "<span style=\"color:cyan\"> |-min_value: 64</span>"
      ],
      "text/plain": [
       "<IPython.core.display.HTML object>"
      ]
     },
     "metadata": {},
     "output_type": "display_data"
    },
    {
     "data": {
      "text/html": [
       "<span style=\"color:blue\"> |-sampling: None</span>"
      ],
      "text/plain": [
       "<IPython.core.display.HTML object>"
      ]
     },
     "metadata": {},
     "output_type": "display_data"
    },
    {
     "data": {
      "text/html": [
       "<span style=\"color:cyan\"> |-step: 16</span>"
      ],
      "text/plain": [
       "<IPython.core.display.HTML object>"
      ]
     },
     "metadata": {},
     "output_type": "display_data"
    },
    {
     "data": {
      "text/html": [
       "<span style=\"color:#7E57C2\"><h2 style=\"font-size:16px\">conv_4 (Int)</h2></span>"
      ],
      "text/plain": [
       "<IPython.core.display.HTML object>"
      ]
     },
     "metadata": {},
     "output_type": "display_data"
    },
    {
     "data": {
      "text/html": [
       "<span style=\"color:cyan\"> |-default: None</span>"
      ],
      "text/plain": [
       "<IPython.core.display.HTML object>"
      ]
     },
     "metadata": {},
     "output_type": "display_data"
    },
    {
     "data": {
      "text/html": [
       "<span style=\"color:blue\"> |-max_value: 128</span>"
      ],
      "text/plain": [
       "<IPython.core.display.HTML object>"
      ]
     },
     "metadata": {},
     "output_type": "display_data"
    },
    {
     "data": {
      "text/html": [
       "<span style=\"color:cyan\"> |-min_value: 64</span>"
      ],
      "text/plain": [
       "<IPython.core.display.HTML object>"
      ]
     },
     "metadata": {},
     "output_type": "display_data"
    },
    {
     "data": {
      "text/html": [
       "<span style=\"color:blue\"> |-sampling: None</span>"
      ],
      "text/plain": [
       "<IPython.core.display.HTML object>"
      ]
     },
     "metadata": {},
     "output_type": "display_data"
    },
    {
     "data": {
      "text/html": [
       "<span style=\"color:cyan\"> |-step: 16</span>"
      ],
      "text/plain": [
       "<IPython.core.display.HTML object>"
      ]
     },
     "metadata": {},
     "output_type": "display_data"
    },
    {
     "data": {
      "text/html": [
       "<span style=\"color:#7E57C2\"><h2 style=\"font-size:16px\">max_pool_2 (Choice)</h2></span>"
      ],
      "text/plain": [
       "<IPython.core.display.HTML object>"
      ]
     },
     "metadata": {},
     "output_type": "display_data"
    },
    {
     "data": {
      "text/html": [
       "<span style=\"color:cyan\"> |-default: 2</span>"
      ],
      "text/plain": [
       "<IPython.core.display.HTML object>"
      ]
     },
     "metadata": {},
     "output_type": "display_data"
    },
    {
     "data": {
      "text/html": [
       "<span style=\"color:blue\"> |-ordered: True</span>"
      ],
      "text/plain": [
       "<IPython.core.display.HTML object>"
      ]
     },
     "metadata": {},
     "output_type": "display_data"
    },
    {
     "data": {
      "text/html": [
       "<span style=\"color:cyan\"> |-values: [2, 4]</span>"
      ],
      "text/plain": [
       "<IPython.core.display.HTML object>"
      ]
     },
     "metadata": {},
     "output_type": "display_data"
    },
    {
     "data": {
      "text/html": [
       "<span style=\"color:#7E57C2\"><h2 style=\"font-size:16px\">dropout_2 (Float)</h2></span>"
      ],
      "text/plain": [
       "<IPython.core.display.HTML object>"
      ]
     },
     "metadata": {},
     "output_type": "display_data"
    },
    {
     "data": {
      "text/html": [
       "<span style=\"color:cyan\"> |-default: 0.25</span>"
      ],
      "text/plain": [
       "<IPython.core.display.HTML object>"
      ]
     },
     "metadata": {},
     "output_type": "display_data"
    },
    {
     "data": {
      "text/html": [
       "<span style=\"color:blue\"> |-max_value: 0.5</span>"
      ],
      "text/plain": [
       "<IPython.core.display.HTML object>"
      ]
     },
     "metadata": {},
     "output_type": "display_data"
    },
    {
     "data": {
      "text/html": [
       "<span style=\"color:cyan\"> |-min_value: 0.0</span>"
      ],
      "text/plain": [
       "<IPython.core.display.HTML object>"
      ]
     },
     "metadata": {},
     "output_type": "display_data"
    },
    {
     "data": {
      "text/html": [
       "<span style=\"color:blue\"> |-sampling: None</span>"
      ],
      "text/plain": [
       "<IPython.core.display.HTML object>"
      ]
     },
     "metadata": {},
     "output_type": "display_data"
    },
    {
     "data": {
      "text/html": [
       "<span style=\"color:cyan\"> |-step: 0.05</span>"
      ],
      "text/plain": [
       "<IPython.core.display.HTML object>"
      ]
     },
     "metadata": {},
     "output_type": "display_data"
    },
    {
     "data": {
      "text/html": [
       "<span style=\"color:#7E57C2\"><h2 style=\"font-size:16px\">units (Int)</h2></span>"
      ],
      "text/plain": [
       "<IPython.core.display.HTML object>"
      ]
     },
     "metadata": {},
     "output_type": "display_data"
    },
    {
     "data": {
      "text/html": [
       "<span style=\"color:cyan\"> |-default: 512</span>"
      ],
      "text/plain": [
       "<IPython.core.display.HTML object>"
      ]
     },
     "metadata": {},
     "output_type": "display_data"
    },
    {
     "data": {
      "text/html": [
       "<span style=\"color:blue\"> |-max_value: 262144</span>"
      ],
      "text/plain": [
       "<IPython.core.display.HTML object>"
      ]
     },
     "metadata": {},
     "output_type": "display_data"
    },
    {
     "data": {
      "text/html": [
       "<span style=\"color:cyan\"> |-min_value: 512</span>"
      ],
      "text/plain": [
       "<IPython.core.display.HTML object>"
      ]
     },
     "metadata": {},
     "output_type": "display_data"
    },
    {
     "data": {
      "text/html": [
       "<span style=\"color:blue\"> |-sampling: None</span>"
      ],
      "text/plain": [
       "<IPython.core.display.HTML object>"
      ]
     },
     "metadata": {},
     "output_type": "display_data"
    },
    {
     "data": {
      "text/html": [
       "<span style=\"color:cyan\"> |-step: 32</span>"
      ],
      "text/plain": [
       "<IPython.core.display.HTML object>"
      ]
     },
     "metadata": {},
     "output_type": "display_data"
    },
    {
     "data": {
      "text/html": [
       "<span style=\"color:#7E57C2\"><h2 style=\"font-size:16px\">dense_activation (Choice)</h2></span>"
      ],
      "text/plain": [
       "<IPython.core.display.HTML object>"
      ]
     },
     "metadata": {},
     "output_type": "display_data"
    },
    {
     "data": {
      "text/html": [
       "<span style=\"color:cyan\"> |-default: relu</span>"
      ],
      "text/plain": [
       "<IPython.core.display.HTML object>"
      ]
     },
     "metadata": {},
     "output_type": "display_data"
    },
    {
     "data": {
      "text/html": [
       "<span style=\"color:blue\"> |-ordered: False</span>"
      ],
      "text/plain": [
       "<IPython.core.display.HTML object>"
      ]
     },
     "metadata": {},
     "output_type": "display_data"
    },
    {
     "data": {
      "text/html": [
       "<span style=\"color:cyan\"> |-values: ['relu', 'tanh', 'sigmoid']</span>"
      ],
      "text/plain": [
       "<IPython.core.display.HTML object>"
      ]
     },
     "metadata": {},
     "output_type": "display_data"
    },
    {
     "data": {
      "text/html": [
       "<span style=\"color:#7E57C2\"><h2 style=\"font-size:16px\">dropout_3 (Float)</h2></span>"
      ],
      "text/plain": [
       "<IPython.core.display.HTML object>"
      ]
     },
     "metadata": {},
     "output_type": "display_data"
    },
    {
     "data": {
      "text/html": [
       "<span style=\"color:cyan\"> |-default: 0.25</span>"
      ],
      "text/plain": [
       "<IPython.core.display.HTML object>"
      ]
     },
     "metadata": {},
     "output_type": "display_data"
    },
    {
     "data": {
      "text/html": [
       "<span style=\"color:blue\"> |-max_value: 0.5</span>"
      ],
      "text/plain": [
       "<IPython.core.display.HTML object>"
      ]
     },
     "metadata": {},
     "output_type": "display_data"
    },
    {
     "data": {
      "text/html": [
       "<span style=\"color:cyan\"> |-min_value: 0.0</span>"
      ],
      "text/plain": [
       "<IPython.core.display.HTML object>"
      ]
     },
     "metadata": {},
     "output_type": "display_data"
    },
    {
     "data": {
      "text/html": [
       "<span style=\"color:blue\"> |-sampling: None</span>"
      ],
      "text/plain": [
       "<IPython.core.display.HTML object>"
      ]
     },
     "metadata": {},
     "output_type": "display_data"
    },
    {
     "data": {
      "text/html": [
       "<span style=\"color:cyan\"> |-step: 0.05</span>"
      ],
      "text/plain": [
       "<IPython.core.display.HTML object>"
      ]
     },
     "metadata": {},
     "output_type": "display_data"
    }
   ],
   "source": [
    "tuner.search_space_summary()"
   ]
  },
  {
   "cell_type": "markdown",
   "metadata": {},
   "source": [
    "tuner.search(train_img_gen, validation_img_gen, epochs=10)\n"
   ]
  },
  {
   "cell_type": "code",
   "execution_count": null,
   "metadata": {},
   "outputs": [],
   "source": [
    "import os"
   ]
  },
  {
   "cell_type": "code",
   "execution_count": 83,
   "metadata": {},
   "outputs": [
    {
     "data": {
      "text/plain": [
       "'E:\\\\Course\\\\Deep Learning Computer Vision™ CNN, OpenCV, YOLO, SSD & GANs\\\\12. Types of Optimizers, Learning Rates & Callbacks Build a Fruit Classifier\\\\fruits-360'"
      ]
     },
     "execution_count": 83,
     "metadata": {},
     "output_type": "execute_result"
    }
   ],
   "source": [
    "os.getcwd()"
   ]
  },
  {
   "cell_type": "code",
   "execution_count": 84,
   "metadata": {},
   "outputs": [],
   "source": [
    "os.chdir(r\"D:\\B2B_Git_Instance\\CNN_Keras\")"
   ]
  },
  {
   "cell_type": "code",
   "execution_count": 85,
   "metadata": {},
   "outputs": [],
   "source": [
    "model.save(\"fruit_classifier.h5\")"
   ]
  }
 ],
 "metadata": {
  "kernelspec": {
   "display_name": "Python 3",
   "language": "python",
   "name": "python3"
  },
  "language_info": {
   "codemirror_mode": {
    "name": "ipython",
    "version": 3
   },
   "file_extension": ".py",
   "mimetype": "text/x-python",
   "name": "python",
   "nbconvert_exporter": "python",
   "pygments_lexer": "ipython3",
   "version": "3.8.5"
  }
 },
 "nbformat": 4,
 "nbformat_minor": 4
}
