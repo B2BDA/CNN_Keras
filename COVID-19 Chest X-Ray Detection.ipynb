{
 "cells": [
  {
   "cell_type": "markdown",
   "metadata": {},
   "source": [
    "# Using GTX 1050 Mobile GPU for training."
   ]
  },
  {
   "cell_type": "code",
   "execution_count": 1,
   "metadata": {},
   "outputs": [],
   "source": [
    "import tensorflow as tf"
   ]
  },
  {
   "cell_type": "code",
   "execution_count": 2,
   "metadata": {},
   "outputs": [
    {
     "data": {
      "text/plain": [
       "'/device:GPU:0'"
      ]
     },
     "execution_count": 2,
     "metadata": {},
     "output_type": "execute_result"
    }
   ],
   "source": [
    "tf.test.gpu_device_name()"
   ]
  },
  {
   "cell_type": "code",
   "execution_count": 1,
   "metadata": {},
   "outputs": [],
   "source": [
    "import pandas as pd"
   ]
  },
  {
   "cell_type": "code",
   "execution_count": 2,
   "metadata": {},
   "outputs": [],
   "source": [
    "data = pd.read_csv(r\"C:\\Users\\bishw\\Downloads\\Compressed\\Chest_xray_Corona_Metadata.csv\")"
   ]
  },
  {
   "cell_type": "code",
   "execution_count": 6,
   "metadata": {},
   "outputs": [],
   "source": [
    "data.drop(columns='Unnamed: 0', inplace=True)"
   ]
  },
  {
   "cell_type": "code",
   "execution_count": 19,
   "metadata": {},
   "outputs": [
    {
     "data": {
      "text/html": [
       "<div>\n",
       "<style scoped>\n",
       "    .dataframe tbody tr th:only-of-type {\n",
       "        vertical-align: middle;\n",
       "    }\n",
       "\n",
       "    .dataframe tbody tr th {\n",
       "        vertical-align: top;\n",
       "    }\n",
       "\n",
       "    .dataframe thead th {\n",
       "        text-align: right;\n",
       "    }\n",
       "</style>\n",
       "<table border=\"1\" class=\"dataframe\">\n",
       "  <thead>\n",
       "    <tr style=\"text-align: right;\">\n",
       "      <th></th>\n",
       "      <th>X_ray_image_name</th>\n",
       "      <th>Label</th>\n",
       "      <th>Dataset_type</th>\n",
       "      <th>Label_2_Virus_category</th>\n",
       "      <th>Label_1_Virus_category</th>\n",
       "    </tr>\n",
       "  </thead>\n",
       "  <tbody>\n",
       "    <tr>\n",
       "      <th>0</th>\n",
       "      <td>IM-0128-0001.jpeg</td>\n",
       "      <td>Normal</td>\n",
       "      <td>TRAIN</td>\n",
       "      <td>NaN</td>\n",
       "      <td>NaN</td>\n",
       "    </tr>\n",
       "    <tr>\n",
       "      <th>1</th>\n",
       "      <td>IM-0127-0001.jpeg</td>\n",
       "      <td>Normal</td>\n",
       "      <td>TRAIN</td>\n",
       "      <td>NaN</td>\n",
       "      <td>NaN</td>\n",
       "    </tr>\n",
       "    <tr>\n",
       "      <th>2</th>\n",
       "      <td>IM-0125-0001.jpeg</td>\n",
       "      <td>Normal</td>\n",
       "      <td>TRAIN</td>\n",
       "      <td>NaN</td>\n",
       "      <td>NaN</td>\n",
       "    </tr>\n",
       "    <tr>\n",
       "      <th>3</th>\n",
       "      <td>IM-0122-0001.jpeg</td>\n",
       "      <td>Normal</td>\n",
       "      <td>TRAIN</td>\n",
       "      <td>NaN</td>\n",
       "      <td>NaN</td>\n",
       "    </tr>\n",
       "    <tr>\n",
       "      <th>4</th>\n",
       "      <td>IM-0119-0001.jpeg</td>\n",
       "      <td>Normal</td>\n",
       "      <td>TRAIN</td>\n",
       "      <td>NaN</td>\n",
       "      <td>NaN</td>\n",
       "    </tr>\n",
       "  </tbody>\n",
       "</table>\n",
       "</div>"
      ],
      "text/plain": [
       "    X_ray_image_name   Label Dataset_type Label_2_Virus_category  \\\n",
       "0  IM-0128-0001.jpeg  Normal        TRAIN                    NaN   \n",
       "1  IM-0127-0001.jpeg  Normal        TRAIN                    NaN   \n",
       "2  IM-0125-0001.jpeg  Normal        TRAIN                    NaN   \n",
       "3  IM-0122-0001.jpeg  Normal        TRAIN                    NaN   \n",
       "4  IM-0119-0001.jpeg  Normal        TRAIN                    NaN   \n",
       "\n",
       "  Label_1_Virus_category  \n",
       "0                    NaN  \n",
       "1                    NaN  \n",
       "2                    NaN  \n",
       "3                    NaN  \n",
       "4                    NaN  "
      ]
     },
     "execution_count": 19,
     "metadata": {},
     "output_type": "execute_result"
    }
   ],
   "source": [
    "data.head()"
   ]
  },
  {
   "cell_type": "code",
   "execution_count": 8,
   "metadata": {},
   "outputs": [],
   "source": [
    "import os"
   ]
  },
  {
   "cell_type": "code",
   "execution_count": 16,
   "metadata": {},
   "outputs": [
    {
     "data": {
      "text/plain": [
       "'D:\\\\Coronahack-Chest-XRay-Dataset'"
      ]
     },
     "execution_count": 16,
     "metadata": {},
     "output_type": "execute_result"
    }
   ],
   "source": [
    "os.getcwd()"
   ]
  },
  {
   "cell_type": "code",
   "execution_count": 38,
   "metadata": {},
   "outputs": [],
   "source": [
    "os.mkdir('Pneumonia')\n",
    "os.mkdir('Normal')"
   ]
  },
  {
   "cell_type": "code",
   "execution_count": 39,
   "metadata": {},
   "outputs": [
    {
     "data": {
      "text/plain": [
       "['Normal', 'Pneumonia', 'test', 'train']"
      ]
     },
     "execution_count": 39,
     "metadata": {},
     "output_type": "execute_result"
    }
   ],
   "source": [
    "os.listdir()"
   ]
  },
  {
   "cell_type": "code",
   "execution_count": 23,
   "metadata": {},
   "outputs": [],
   "source": [
    "normal = data.loc[(data.Label == 'Normal') & (data.Dataset_type=='TRAIN'),'X_ray_image_name'].values\n",
    "pneumonia = data.loc[(data.Label != 'Normal') & (data.Dataset_type=='TRAIN'),'X_ray_image_name'].values"
   ]
  },
  {
   "cell_type": "code",
   "execution_count": 28,
   "metadata": {},
   "outputs": [
    {
     "data": {
      "text/plain": [
       "array(['IM-0128-0001.jpeg', 'IM-0127-0001.jpeg', 'IM-0125-0001.jpeg', ...,\n",
       "       'NORMAL2-IM-1332-0001.jpeg', 'NORMAL2-IM-1330-0001.jpeg',\n",
       "       'F051E018-DAD1-4506-AD43-BE4CA29E960B.jpeg'], dtype=object)"
      ]
     },
     "execution_count": 28,
     "metadata": {},
     "output_type": "execute_result"
    }
   ],
   "source": [
    "normal"
   ]
  },
  {
   "cell_type": "code",
   "execution_count": 24,
   "metadata": {},
   "outputs": [],
   "source": [
    "import shutil"
   ]
  },
  {
   "cell_type": "code",
   "execution_count": 36,
   "metadata": {},
   "outputs": [],
   "source": [
    "for i in normal:\n",
    "    shutil.move(src = os.path.join(train,i), dst = r\"D:\\Coronahack-Chest-XRay-Dataset\\Normal\")"
   ]
  },
  {
   "cell_type": "code",
   "execution_count": 37,
   "metadata": {},
   "outputs": [],
   "source": [
    "for i in pneumonia:\n",
    "    shutil.move(src = os.path.join(train,i), dst = r\"D:\\Coronahack-Chest-XRay-Dataset\\Pneumonia\")"
   ]
  },
  {
   "cell_type": "code",
   "execution_count": 40,
   "metadata": {},
   "outputs": [],
   "source": [
    "normal = data.loc[(data.Label == 'Normal') & (data.Dataset_type!='TRAIN'),'X_ray_image_name'].values\n",
    "pneumonia = data.loc[(data.Label != 'Normal') & (data.Dataset_type!='TRAIN'),'X_ray_image_name'].values"
   ]
  },
  {
   "cell_type": "code",
   "execution_count": 41,
   "metadata": {},
   "outputs": [],
   "source": [
    "for i in normal:\n",
    "    shutil.move(src = os.path.join(test,i), dst = r\"D:\\Coronahack-Chest-XRay-Dataset\\Normal\")"
   ]
  },
  {
   "cell_type": "code",
   "execution_count": 42,
   "metadata": {},
   "outputs": [],
   "source": [
    "for i in pneumonia:\n",
    "    shutil.move(src = os.path.join(test,i), dst = r\"D:\\Coronahack-Chest-XRay-Dataset\\Pneumonia\")"
   ]
  },
  {
   "cell_type": "code",
   "execution_count": 25,
   "metadata": {},
   "outputs": [
    {
     "data": {
      "text/plain": [
       "'D:\\\\Coronahack-Chest-XRay-Dataset\\\\test'"
      ]
     },
     "execution_count": 25,
     "metadata": {},
     "output_type": "execute_result"
    }
   ],
   "source": [
    "os.path.join(train)"
   ]
  },
  {
   "cell_type": "code",
   "execution_count": 3,
   "metadata": {},
   "outputs": [],
   "source": [
    "import numpy as np\n",
    "import matplotlib.pyplot as plt\n",
    "from tensorflow import keras\n",
    "import seaborn as sns"
   ]
  },
  {
   "cell_type": "code",
   "execution_count": 4,
   "metadata": {},
   "outputs": [],
   "source": [
    "import os"
   ]
  },
  {
   "cell_type": "code",
   "execution_count": 5,
   "metadata": {},
   "outputs": [],
   "source": [
    "os.chdir(r\"D:\\Coronahack-Chest-XRay-Dataset\")"
   ]
  },
  {
   "cell_type": "code",
   "execution_count": 6,
   "metadata": {},
   "outputs": [
    {
     "data": {
      "text/plain": [
       "['test', 'train']"
      ]
     },
     "execution_count": 6,
     "metadata": {},
     "output_type": "execute_result"
    }
   ],
   "source": [
    "os.listdir()"
   ]
  },
  {
   "cell_type": "code",
   "execution_count": 7,
   "metadata": {},
   "outputs": [],
   "source": [
    "train = os.getcwd()+'\\\\'+os.listdir()[1]\n",
    "test = os.getcwd()+'\\\\'+os.listdir()[0]"
   ]
  },
  {
   "cell_type": "code",
   "execution_count": 8,
   "metadata": {},
   "outputs": [
    {
     "data": {
      "text/plain": [
       "2"
      ]
     },
     "execution_count": 8,
     "metadata": {},
     "output_type": "execute_result"
    }
   ],
   "source": [
    "num_class = len(os.listdir(train))\n",
    "num_class"
   ]
  },
  {
   "cell_type": "code",
   "execution_count": 7,
   "metadata": {
    "scrolled": true
   },
   "outputs": [],
   "source": [
    "dim1_c = []\n",
    "dim2_c = []\n",
    "for i in os.listdir(r\"D:\\data_upload_v2\\test\\covid\"):\n",
    "    dim1_c.append(keras.preprocessing.image.img_to_array(keras.preprocessing.image.load_img(r\"D:\\data_upload_v2\\test\\covid\"+'\\\\'+i)).shape[0])\n",
    "    dim2_c.append(keras.preprocessing.image.img_to_array(keras.preprocessing.image.load_img(r\"D:\\data_upload_v2\\test\\covid\"+'\\\\'+i)).shape[1])"
   ]
  },
  {
   "cell_type": "code",
   "execution_count": 10,
   "metadata": {},
   "outputs": [],
   "source": [
    "dim1_nc = []\n",
    "dim2_nc = []\n",
    "for i in os.listdir(r\"D:\\data_upload_v2\\test\\non\"):\n",
    "    dim1_nc.append(keras.preprocessing.image.img_to_array(keras.preprocessing.image.load_img(r\"D:\\data_upload_v2\\test\\non\"+'\\\\'+i)).shape[0])\n",
    "    dim2_nc.append(keras.preprocessing.image.img_to_array(keras.preprocessing.image.load_img(r\"D:\\data_upload_v2\\test\\non\"+'\\\\'+i)).shape[1])"
   ]
  },
  {
   "cell_type": "code",
   "execution_count": 11,
   "metadata": {},
   "outputs": [
    {
     "name": "stderr",
     "output_type": "stream",
     "text": [
      "c:\\programdata\\anaconda3\\envs\\tf_gpu\\lib\\site-packages\\seaborn\\_decorators.py:43: FutureWarning: Pass the following variables as keyword args: x, y. From version 0.12, the only valid positional argument will be `data`, and passing other arguments without an explicit keyword will result in an error or misinterpretation.\n",
      "  FutureWarning\n"
     ]
    },
    {
     "data": {
      "text/plain": [
       "<seaborn.axisgrid.JointGrid at 0x1a4a94a7cc8>"
      ]
     },
     "execution_count": 11,
     "metadata": {},
     "output_type": "execute_result"
    },
    {
     "data": {
      "image/png": "[encoded data removed]",
      "text/plain": [
       "<Figure size 432x432 with 3 Axes>"
      ]
     },
     "metadata": {
      "needs_background": "light"
     },
     "output_type": "display_data"
    }
   ],
   "source": [
    "sns.jointplot(dim1_c, dim2_c)"
   ]
  },
  {
   "cell_type": "code",
   "execution_count": 9,
   "metadata": {},
   "outputs": [
    {
     "data": {
      "text/plain": [
       "(1482, 1989, 3)"
      ]
     },
     "execution_count": 9,
     "metadata": {},
     "output_type": "execute_result"
    }
   ],
   "source": [
    "keras.preprocessing.image.img_to_array(keras.preprocessing.image.load_img(r\"D:\\data_upload_v2\\train\\covid\\01E392EE-69F9-4E33-BFCE-E5C968654078.jpeg\")).shape"
   ]
  },
  {
   "cell_type": "code",
   "execution_count": 10,
   "metadata": {},
   "outputs": [],
   "source": [
    "std_img_dim = (224,224,1)"
   ]
  },
  {
   "cell_type": "code",
   "execution_count": 11,
   "metadata": {},
   "outputs": [],
   "source": [
    "img_gen = keras.preprocessing.image.ImageDataGenerator(width_shift_range=0.1, height_shift_range=0.1, shear_range=0.1, zoom_range=0.1,horizontal_flip=True,rescale=1./255, )"
   ]
  },
  {
   "cell_type": "code",
   "execution_count": 12,
   "metadata": {},
   "outputs": [
    {
     "name": "stdout",
     "output_type": "stream",
     "text": [
      "Found 5286 images belonging to 2 classes.\n"
     ]
    }
   ],
   "source": [
    "train_gen = img_gen.flow_from_directory(train, target_size=std_img_dim[:2], color_mode='grayscale', batch_size=10)"
   ]
  },
  {
   "cell_type": "code",
   "execution_count": 13,
   "metadata": {},
   "outputs": [
    {
     "name": "stdout",
     "output_type": "stream",
     "text": [
      "Found 624 images belonging to 2 classes.\n"
     ]
    }
   ],
   "source": [
    "test_gen = img_gen.flow_from_directory(test, target_size=std_img_dim[:2], color_mode='grayscale', shuffle=False, batch_size=10)"
   ]
  },
  {
   "cell_type": "code",
   "execution_count": 21,
   "metadata": {},
   "outputs": [],
   "source": [
    "model = keras.models.Sequential()"
   ]
  },
  {
   "cell_type": "code",
   "execution_count": 22,
   "metadata": {},
   "outputs": [],
   "source": [
    "model.add(keras.layers.Conv2D(filters=64, kernel_size=(3,3), padding  = 'same', activation='relu', input_shape=std_img_dim))\n",
    "model.add(keras.layers.BatchNormalization())\n",
    "# model.add(keras.layers.Conv2D(filters=64, kernel_size=(3,3), padding  = 'same', activation='relu', input_shape=std_img_dim))\n",
    "# model.add(keras.layers.BatchNormalization())\n",
    "model.add(keras.layers.MaxPool2D(pool_size=(2,2)))\n",
    "model.add(keras.layers.Dropout(0.2))\n",
    "\n",
    "model.add(keras.layers.Conv2D(filters=128, kernel_size=(3,3), padding  = 'same', activation='relu', input_shape=std_img_dim))\n",
    "model.add(keras.layers.BatchNormalization())\n",
    "# model.add(keras.layers.Conv2D(filters=128, kernel_size=(3,3), padding  = 'same', activation='relu', input_shape=std_img_dim))\n",
    "# model.add(keras.layers.BatchNormalization())\n",
    "model.add(keras.layers.MaxPool2D(pool_size=(2,2)))\n",
    "model.add(keras.layers.Dropout(0.2))\n",
    "\n",
    "# model.add(keras.layers.Conv2D(filters=256, kernel_size=(3,3), padding  = 'same', activation='relu', input_shape=std_img_dim))\n",
    "# model.add(keras.layers.BatchNormalization())\n",
    "# model.add(keras.layers.Conv2D(filters=256, kernel_size=(3,3), padding  = 'same', activation='relu', input_shape=std_img_dim))\n",
    "# model.add(keras.layers.BatchNormalization())\n",
    "# model.add(keras.layers.MaxPool2D(pool_size=(2,2)))\n",
    "# model.add(keras.layers.Dropout(0.2))\n",
    "\n",
    "model.add(keras.layers.Flatten())\n",
    "\n",
    "model.add(keras.layers.Dense(256, activation = 'relu'))\n",
    "model.add(keras.layers.BatchNormalization())\n",
    "model.add(keras.layers.Dropout(0.5))\n",
    "\n",
    "# model.add(keras.layers.Dense(256, activation = 'relu'))\n",
    "# model.add(keras.layers.BatchNormalization())\n",
    "# model.add(keras.layers.Dropout(0.5))\n",
    "\n",
    "model.add(keras.layers.Dense(num_class, activation = 'softmax'))\n",
    "\n",
    "model.compile(optimizer = 'adam', loss = 'categorical_crossentropy', metrics = ['accuracy'])\n"
   ]
  },
  {
   "cell_type": "code",
   "execution_count": 23,
   "metadata": {},
   "outputs": [],
   "source": [
    "early_stop = keras.callbacks.EarlyStopping(patience = 2)"
   ]
  },
  {
   "cell_type": "markdown",
   "metadata": {},
   "source": [
    "# Ran for only 5 epochs as the system was overheating"
   ]
  },
  {
   "cell_type": "code",
   "execution_count": 25,
   "metadata": {},
   "outputs": [
    {
     "name": "stdout",
     "output_type": "stream",
     "text": [
      "WARNING:tensorflow:sample_weight modes were coerced from\n",
      "  ...\n",
      "    to  \n",
      "  ['...']\n",
      "WARNING:tensorflow:sample_weight modes were coerced from\n",
      "  ...\n",
      "    to  \n",
      "  ['...']\n",
      "Train for 529 steps, validate for 63 steps\n",
      "Epoch 1/5\n",
      "529/529 [==============================] - 108s 205ms/step - loss: 0.4162 - accuracy: 0.8294 - val_loss: 5.0375 - val_accuracy: 0.6202\n",
      "Epoch 2/5\n",
      "529/529 [==============================] - 106s 200ms/step - loss: 0.3166 - accuracy: 0.8727 - val_loss: 2.7272 - val_accuracy: 0.6250\n",
      "Epoch 3/5\n",
      "529/529 [==============================] - 103s 195ms/step - loss: 0.2960 - accuracy: 0.8697 - val_loss: 2.1550 - val_accuracy: 0.6282\n",
      "Epoch 4/5\n",
      "529/529 [==============================] - 95s 180ms/step - loss: 0.2272 - accuracy: 0.9071 - val_loss: 1.0204 - val_accuracy: 0.6827\n",
      "Epoch 5/5\n",
      "529/529 [==============================] - 97s 184ms/step - loss: 0.2335 - accuracy: 0.9033 - val_loss: 2.5236 - val_accuracy: 0.6266\n"
     ]
    },
    {
     "data": {
      "text/plain": [
       "<tensorflow.python.keras.callbacks.History at 0x2118dd89248>"
      ]
     },
     "execution_count": 25,
     "metadata": {},
     "output_type": "execute_result"
    }
   ],
   "source": [
    "model.fit(train_gen, epochs = 5, validation_data=test_gen, callbacks=[early_stop])"
   ]
  },
  {
   "cell_type": "code",
   "execution_count": null,
   "metadata": {},
   "outputs": [],
   "source": []
  }
 ],
 "metadata": {
  "kernelspec": {
   "display_name": "Python 3",
   "language": "python",
   "name": "python3"
  },
  "language_info": {
   "codemirror_mode": {
    "name": "ipython",
    "version": 3
   },
   "file_extension": ".py",
   "mimetype": "text/x-python",
   "name": "python",
   "nbconvert_exporter": "python",
   "pygments_lexer": "ipython3",
   "version": "3.7.9"
  }
 },
 "nbformat": 4,
 "nbformat_minor": 4
}
